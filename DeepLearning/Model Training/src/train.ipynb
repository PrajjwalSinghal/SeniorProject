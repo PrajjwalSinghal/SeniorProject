{
 "cells": [
  {
   "cell_type": "code",
   "execution_count": 8,
   "metadata": {
    "execution": {
     "iopub.execute_input": "2020-08-16T04:33:28.434100Z",
     "iopub.status.busy": "2020-08-16T04:33:28.433250Z",
     "iopub.status.idle": "2020-08-16T04:33:28.436384Z",
     "shell.execute_reply": "2020-08-16T04:33:28.435740Z"
    },
    "papermill": {
     "duration": 0.02598,
     "end_time": "2020-08-16T04:33:28.436498",
     "exception": false,
     "start_time": "2020-08-16T04:33:28.410518",
     "status": "completed"
    },
    "tags": []
   },
   "outputs": [],
   "source": [
    "# Last performance: 95%-96% validation\n",
    "# Note: Data augmentation and extra layers did not help\n",
    "# Try different optimizers"
   ]
  },
  {
   "cell_type": "code",
   "execution_count": 9,
   "metadata": {
    "_cell_guid": "8d958bba-cccc-4c19-83ba-d347aaf38e38",
    "_uuid": "87a4c707-dc24-416f-af65-64de75e0d767",
    "execution": {
     "iopub.execute_input": "2020-08-16T04:33:28.484229Z",
     "iopub.status.busy": "2020-08-16T04:33:28.483647Z",
     "iopub.status.idle": "2020-08-16T04:33:34.989264Z",
     "shell.execute_reply": "2020-08-16T04:33:34.988090Z"
    },
    "papermill": {
     "duration": 6.533477,
     "end_time": "2020-08-16T04:33:34.989393",
     "exception": false,
     "start_time": "2020-08-16T04:33:28.455916",
     "status": "completed"
    },
    "tags": []
   },
   "outputs": [],
   "source": [
    "from keras.models import Sequential\n",
    "from keras.callbacks import ModelCheckpoint\n",
    "from keras.optimizers import SGD\n",
    "from keras.layers.normalization import BatchNormalization\n",
    "from keras.layers import Dense, Activation, Dropout, Flatten,Conv2D, MaxPooling2D\n",
    "from keras.callbacks import ModelCheckpoint\n",
    "from keras.preprocessing.image import ImageDataGenerator\n",
    "import matplotlib.pyplot as plt"
   ]
  },
  {
   "cell_type": "code",
   "execution_count": 16,
   "metadata": {
    "_cell_guid": "7d6c1d30-2187-4f65-b3c3-3dd26a2f8af8",
    "_uuid": "c9855ea7-e53b-418a-aa5c-a1de846661fe",
    "execution": {
     "iopub.execute_input": "2020-08-16T04:33:35.328046Z",
     "iopub.status.busy": "2020-08-16T04:33:35.327111Z",
     "iopub.status.idle": "2020-08-16T04:33:40.750949Z",
     "shell.execute_reply": "2020-08-16T04:33:40.752074Z"
    },
    "papermill": {
     "duration": 5.452018,
     "end_time": "2020-08-16T04:33:40.752261",
     "exception": false,
     "start_time": "2020-08-16T04:33:35.300243",
     "status": "completed"
    },
    "tags": []
   },
   "outputs": [
    {
     "name": "stdout",
     "output_type": "stream",
     "text": [
      "Found 34630 images belonging to 14 classes.\n"
     ]
    }
   ],
   "source": [
    "# train_datagen = ImageDataGenerator(brightness_range=[0.2,1.0], horizontal_flip=True, rotation_range=90)\n",
    "def make_generator():\n",
    "    train_datagen = ImageDataGenerator(brightness_range=[0.2,1.0], rescale=1./255)\n",
    "    train_generator = train_datagen.flow_from_directory(\n",
    "        directory=\"../data/CurrentTrainingData/train\",\n",
    "        target_size=(300, 300),\n",
    "        color_mode=\"grayscale\",\n",
    "        batch_size=32,\n",
    "        class_mode=\"categorical\",\n",
    "        shuffle=True,\n",
    "        seed=91\n",
    "    )\n",
    "    return train_generator\n",
    "train_generator = make_generator()"
   ]
  },
  {
   "cell_type": "code",
   "execution_count": 17,
   "metadata": {
    "_cell_guid": "0add08c9-515c-44f6-be80-5ff815298f2d",
    "_uuid": "a9070869-898d-46d0-9d03-c4f81b361a44",
    "execution": {
     "iopub.execute_input": "2020-08-16T04:33:40.802340Z",
     "iopub.status.busy": "2020-08-16T04:33:40.801719Z",
     "iopub.status.idle": "2020-08-16T04:33:41.125155Z",
     "shell.execute_reply": "2020-08-16T04:33:41.123956Z"
    },
    "papermill": {
     "duration": 0.351221,
     "end_time": "2020-08-16T04:33:41.125298",
     "exception": false,
     "start_time": "2020-08-16T04:33:40.774077",
     "status": "completed"
    },
    "tags": []
   },
   "outputs": [
    {
     "name": "stdout",
     "output_type": "stream",
     "text": [
      "Found 5400 images belonging to 14 classes.\n"
     ]
    }
   ],
   "source": [
    "# valid_datagen = ImageDataGenerator(brightness_range=[0.2,1.0], horizontal_flip=True,rotation_range=90)\n",
    "def make_generator():\n",
    "    valid_datagen = ImageDataGenerator(brightness_range=[0.2,1.0], rescale=1./255)\n",
    "    valid_generator = valid_datagen.flow_from_directory(\n",
    "        directory=\"../data/CurrentTrainingData/val\",\n",
    "        target_size=(300, 300),\n",
    "        color_mode=\"grayscale\",\n",
    "        batch_size=32,\n",
    "        class_mode=\"categorical\",\n",
    "        shuffle=True,\n",
    "        seed=17\n",
    "    )\n",
    "    return valid_generator\n",
    "valid_generator = make_generator()"
   ]
  },
  {
   "cell_type": "code",
   "execution_count": 18,
   "metadata": {
    "_cell_guid": "c474b7a3-4b6d-459d-8991-5b0ce7a48e99",
    "_uuid": "68539892-13c0-487e-b174-c870673e0d65",
    "execution": {
     "iopub.execute_input": "2020-08-16T04:33:41.173854Z",
     "iopub.status.busy": "2020-08-16T04:33:41.173098Z",
     "iopub.status.idle": "2020-08-16T04:33:41.176147Z",
     "shell.execute_reply": "2020-08-16T04:33:41.175638Z"
    },
    "papermill": {
     "duration": 0.02932,
     "end_time": "2020-08-16T04:33:41.176254",
     "exception": false,
     "start_time": "2020-08-16T04:33:41.146934",
     "status": "completed"
    },
    "tags": []
   },
   "outputs": [],
   "source": [
    "STEP_SIZE_TRAIN=train_generator.n//train_generator.batch_size\n",
    "STEP_SIZE_VALID=valid_generator.n//valid_generator.batch_size"
   ]
  },
  {
   "cell_type": "code",
   "execution_count": 19,
   "metadata": {
    "_cell_guid": "18268a43-4591-4037-89ef-ae0432ec3b38",
    "_uuid": "bc12a289-3886-4df1-b216-c0cad7db9c40",
    "execution": {
     "iopub.execute_input": "2020-08-16T04:33:41.242791Z",
     "iopub.status.busy": "2020-08-16T04:33:41.241941Z",
     "iopub.status.idle": "2020-08-16T04:33:41.244683Z",
     "shell.execute_reply": "2020-08-16T04:33:41.244093Z"
    },
    "papermill": {
     "duration": 0.047034,
     "end_time": "2020-08-16T04:33:41.244781",
     "exception": false,
     "start_time": "2020-08-16T04:33:41.197747",
     "status": "completed"
    },
    "tags": []
   },
   "outputs": [],
   "source": [
    "# Model architecture\n",
    "def create_model():\n",
    "    sgd = SGD(lr=0.001)\n",
    "    model = Sequential()\n",
    "    model.add(Conv2D(filters=96, input_shape=(300,300,1), kernel_size=(11,11),strides=(4,4), padding='valid', activation='relu'))\n",
    "    model.add(MaxPooling2D(pool_size=(2,2), strides=(2,2), padding='valid'))\n",
    "    model.add(BatchNormalization())\n",
    "    model.add(Conv2D(filters=256, kernel_size=(11,11), strides=(1,1), padding='valid', activation='relu'))\n",
    "    model.add(MaxPooling2D(pool_size=(2,2), strides=(2,2), padding='valid'))\n",
    "    model.add(BatchNormalization())\n",
    "    model.add(Conv2D(filters=384, kernel_size=(3,3), strides=(1,1), padding='valid', activation='relu'))\n",
    "    model.add(BatchNormalization())\n",
    "    model.add(Conv2D(filters=384, kernel_size=(3,3), strides=(1,1), padding='valid', activation='relu'))\n",
    "    model.add(BatchNormalization())\n",
    "    model.add(Conv2D(filters=256, kernel_size=(3,3), strides=(1,1), padding='valid', activation='relu'))\n",
    "    model.add(MaxPooling2D(pool_size=(2,2), strides=(2,2), padding='valid'))\n",
    "    model.add(BatchNormalization())    \n",
    "    model.add(Flatten())\n",
    "    model.add(Dense(4096, input_shape=(300*300*1,), activation='relu'))\n",
    "    model.add(Dropout(0.4))\n",
    "    model.add(BatchNormalization())\n",
    "    model.add(Dense(4096, activation='relu'))\n",
    "    model.add(Dropout(0.6))\n",
    "    model.add(BatchNormalization())\n",
    "    model.add(Dense(1000, activation='relu'))\n",
    "    model.add(Dropout(0.5))\n",
    "    model.add(BatchNormalization())\n",
    "    \n",
    "    model.add(Dense(14, activation=\"softmax\"))\n",
    "    model.compile(loss='categorical_crossentropy', optimizer=\"Adam\", metrics=['accuracy'])\n",
    "    return model\n",
    "    \n",
    "    "
   ]
  },
  {
   "cell_type": "code",
   "execution_count": 21,
   "metadata": {
    "execution": {
     "iopub.execute_input": "2020-08-16T04:33:41.345014Z",
     "iopub.status.busy": "2020-08-16T04:33:41.344387Z",
     "iopub.status.idle": "2020-08-16T04:33:44.861121Z",
     "shell.execute_reply": "2020-08-16T04:33:44.862641Z"
    },
    "papermill": {
     "duration": 3.544079,
     "end_time": "2020-08-16T04:33:44.862872",
     "exception": false,
     "start_time": "2020-08-16T04:33:41.318793",
     "status": "completed"
    },
    "tags": []
   },
   "outputs": [
    {
     "name": "stdout",
     "output_type": "stream",
     "text": [
      "Model: \"sequential\"\n",
      "_________________________________________________________________\n",
      "Layer (type)                 Output Shape              Param #   \n",
      "=================================================================\n",
      "conv2d (Conv2D)              (None, 73, 73, 96)        11712     \n",
      "_________________________________________________________________\n",
      "max_pooling2d (MaxPooling2D) (None, 36, 36, 96)        0         \n",
      "_________________________________________________________________\n",
      "batch_normalization (BatchNo (None, 36, 36, 96)        384       \n",
      "_________________________________________________________________\n",
      "conv2d_1 (Conv2D)            (None, 26, 26, 256)       2973952   \n",
      "_________________________________________________________________\n",
      "max_pooling2d_1 (MaxPooling2 (None, 13, 13, 256)       0         \n",
      "_________________________________________________________________\n",
      "batch_normalization_1 (Batch (None, 13, 13, 256)       1024      \n",
      "_________________________________________________________________\n",
      "conv2d_2 (Conv2D)            (None, 11, 11, 384)       885120    \n",
      "_________________________________________________________________\n",
      "batch_normalization_2 (Batch (None, 11, 11, 384)       1536      \n",
      "_________________________________________________________________\n",
      "conv2d_3 (Conv2D)            (None, 9, 9, 384)         1327488   \n",
      "_________________________________________________________________\n",
      "batch_normalization_3 (Batch (None, 9, 9, 384)         1536      \n",
      "_________________________________________________________________\n",
      "conv2d_4 (Conv2D)            (None, 7, 7, 256)         884992    \n",
      "_________________________________________________________________\n",
      "max_pooling2d_2 (MaxPooling2 (None, 3, 3, 256)         0         \n",
      "_________________________________________________________________\n",
      "batch_normalization_4 (Batch (None, 3, 3, 256)         1024      \n",
      "_________________________________________________________________\n",
      "flatten (Flatten)            (None, 2304)              0         \n",
      "_________________________________________________________________\n",
      "dense (Dense)                (None, 4096)              9441280   \n",
      "_________________________________________________________________\n",
      "dropout (Dropout)            (None, 4096)              0         \n",
      "_________________________________________________________________\n",
      "batch_normalization_5 (Batch (None, 4096)              16384     \n",
      "_________________________________________________________________\n",
      "dense_1 (Dense)              (None, 4096)              16781312  \n",
      "_________________________________________________________________\n",
      "dropout_1 (Dropout)          (None, 4096)              0         \n",
      "_________________________________________________________________\n",
      "batch_normalization_6 (Batch (None, 4096)              16384     \n",
      "_________________________________________________________________\n",
      "dense_2 (Dense)              (None, 1000)              4097000   \n",
      "_________________________________________________________________\n",
      "dropout_2 (Dropout)          (None, 1000)              0         \n",
      "_________________________________________________________________\n",
      "batch_normalization_7 (Batch (None, 1000)              4000      \n",
      "_________________________________________________________________\n",
      "dense_3 (Dense)              (None, 14)                14014     \n",
      "=================================================================\n",
      "Total params: 36,459,142\n",
      "Trainable params: 36,438,006\n",
      "Non-trainable params: 21,136\n",
      "_________________________________________________________________\n"
     ]
    }
   ],
   "source": [
    "saveCheckpoint = ModelCheckpoint('an3sources_Adam.hdf5', save_best_only=True, monitor='val_loss', mode='min')\n",
    "model = create_model()\n",
    "model.summary()"
   ]
  },
  {
   "cell_type": "code",
   "execution_count": 23,
   "metadata": {
    "execution": {
     "iopub.execute_input": "2020-08-16T04:33:44.971012Z",
     "iopub.status.busy": "2020-08-16T04:33:44.970196Z",
     "iopub.status.idle": "2020-08-16T05:23:19.404966Z",
     "shell.execute_reply": "2020-08-16T05:23:19.404382Z"
    },
    "papermill": {
     "duration": 2974.464945,
     "end_time": "2020-08-16T05:23:19.405092",
     "exception": false,
     "start_time": "2020-08-16T04:33:44.940147",
     "status": "completed"
    },
    "tags": []
   },
   "outputs": [
    {
     "name": "stdout",
     "output_type": "stream",
     "text": [
      "Epoch 1/25\n",
      "1082/1082 [==============================] - 140s 129ms/step - loss: 1.9164 - accuracy: 0.3793 - val_loss: 3.3912 - val_accuracy: 0.3862\n",
      "Epoch 2/25\n",
      "1082/1082 [==============================] - 115s 106ms/step - loss: 0.5541 - accuracy: 0.8018 - val_loss: 0.5744 - val_accuracy: 0.8246\n",
      "Epoch 3/25\n",
      "1082/1082 [==============================] - 116s 107ms/step - loss: 0.2845 - accuracy: 0.8988 - val_loss: 0.4388 - val_accuracy: 0.8923\n",
      "Epoch 4/25\n",
      "1082/1082 [==============================] - 117s 108ms/step - loss: 0.2140 - accuracy: 0.9262 - val_loss: 0.3141 - val_accuracy: 0.9217\n",
      "Epoch 5/25\n",
      "1082/1082 [==============================] - 113s 105ms/step - loss: 0.1574 - accuracy: 0.9460 - val_loss: 0.6908 - val_accuracy: 0.8558\n",
      "Epoch 6/25\n",
      "1082/1082 [==============================] - 116s 107ms/step - loss: 0.1360 - accuracy: 0.9549 - val_loss: 0.4190 - val_accuracy: 0.9115\n",
      "Epoch 7/25\n",
      "1082/1082 [==============================] - 117s 108ms/step - loss: 0.1080 - accuracy: 0.9635 - val_loss: 0.2941 - val_accuracy: 0.9275\n",
      "Epoch 8/25\n",
      "1082/1082 [==============================] - 118s 109ms/step - loss: 0.1128 - accuracy: 0.9640 - val_loss: 0.3403 - val_accuracy: 0.9191\n",
      "Epoch 9/25\n",
      "1082/1082 [==============================] - 118s 109ms/step - loss: 0.0822 - accuracy: 0.9741 - val_loss: 0.1803 - val_accuracy: 0.9555\n",
      "Epoch 10/25\n",
      "1082/1082 [==============================] - 117s 108ms/step - loss: 0.1185 - accuracy: 0.9631 - val_loss: 0.2335 - val_accuracy: 0.9533\n",
      "Epoch 11/25\n",
      "1082/1082 [==============================] - 118s 109ms/step - loss: 0.0676 - accuracy: 0.9785 - val_loss: 0.2844 - val_accuracy: 0.9377\n",
      "Epoch 12/25\n",
      "1082/1082 [==============================] - 120s 111ms/step - loss: 0.0536 - accuracy: 0.9822 - val_loss: 0.2370 - val_accuracy: 0.9555\n",
      "Epoch 13/25\n",
      "1082/1082 [==============================] - 120s 111ms/step - loss: 0.0593 - accuracy: 0.9815 - val_loss: 0.2151 - val_accuracy: 0.9488\n",
      "Epoch 14/25\n",
      "1082/1082 [==============================] - 114s 106ms/step - loss: 0.0505 - accuracy: 0.9851 - val_loss: 0.9192 - val_accuracy: 0.7848\n",
      "Epoch 15/25\n",
      "1082/1082 [==============================] - 119s 110ms/step - loss: 0.0724 - accuracy: 0.9781 - val_loss: 0.1627 - val_accuracy: 0.9585\n",
      "Epoch 16/25\n",
      "1082/1082 [==============================] - 119s 110ms/step - loss: 0.0341 - accuracy: 0.9894 - val_loss: 0.2554 - val_accuracy: 0.9570\n",
      "Epoch 17/25\n",
      "1082/1082 [==============================] - 115s 107ms/step - loss: 0.0832 - accuracy: 0.9761 - val_loss: 0.2984 - val_accuracy: 0.9328\n",
      "Epoch 18/25\n",
      "1082/1082 [==============================] - 120s 111ms/step - loss: 0.0452 - accuracy: 0.9864 - val_loss: 0.6110 - val_accuracy: 0.8871\n",
      "Epoch 19/25\n",
      "1082/1082 [==============================] - 119s 110ms/step - loss: 0.0382 - accuracy: 0.9887 - val_loss: 0.2564 - val_accuracy: 0.9522\n",
      "Epoch 20/25\n",
      "1082/1082 [==============================] - 117s 108ms/step - loss: 0.0262 - accuracy: 0.9920 - val_loss: 0.2293 - val_accuracy: 0.9609\n",
      "Epoch 21/25\n",
      "1082/1082 [==============================] - 121s 111ms/step - loss: 0.0483 - accuracy: 0.9849 - val_loss: 0.1798 - val_accuracy: 0.9604\n",
      "Epoch 22/25\n",
      "1082/1082 [==============================] - 120s 111ms/step - loss: 0.0211 - accuracy: 0.9935 - val_loss: 0.2055 - val_accuracy: 0.9604\n",
      "Epoch 23/25\n",
      "1082/1082 [==============================] - 115s 107ms/step - loss: 0.0234 - accuracy: 0.9927 - val_loss: 0.2448 - val_accuracy: 0.9528\n",
      "Epoch 24/25\n",
      "1082/1082 [==============================] - 120s 111ms/step - loss: 0.0313 - accuracy: 0.9903 - val_loss: 0.2492 - val_accuracy: 0.9431\n",
      "Epoch 25/25\n",
      "1082/1082 [==============================] - 116s 107ms/step - loss: 0.0350 - accuracy: 0.9897 - val_loss: 0.2870 - val_accuracy: 0.9546\n",
      "2974.432163953781\n"
     ]
    }
   ],
   "source": [
    "start = time()\n",
    "history = model.fit_generator(generator = train_generator, steps_per_epoch=STEP_SIZE_TRAIN, epochs = 25, validation_data=valid_generator, validation_steps=STEP_SIZE_VALID, callbacks=[saveCheckpoint], max_queue_size=20, workers=2)\n",
    "print(\"Total Time taken to train the model: \", (time()-start) / 60 , )"
   ]
  },
  {
   "cell_type": "code",
   "execution_count": 25,
   "metadata": {
    "_cell_guid": "2cb1020a-c295-472b-aeb5-6f20b2eeab4f",
    "_uuid": "f249e53b-68ea-4c91-825e-c9468b7f30dc",
    "execution": {
     "iopub.execute_input": "2020-08-16T05:23:50.776335Z",
     "iopub.status.busy": "2020-08-16T05:23:50.775695Z",
     "iopub.status.idle": "2020-08-16T05:23:51.008731Z",
     "shell.execute_reply": "2020-08-16T05:23:51.007769Z"
    },
    "papermill": {
     "duration": 8.117037,
     "end_time": "2020-08-16T05:23:51.008849",
     "exception": false,
     "start_time": "2020-08-16T05:23:42.891812",
     "status": "completed"
    },
    "tags": []
   },
   "outputs": [
    {
     "data": {
      "image/png": "[encoded data removed]",
      "text/plain": [
       "<Figure size 432x288 with 1 Axes>"
      ]
     },
     "metadata": {
      "needs_background": "light"
     },
     "output_type": "display_data"
    }
   ],
   "source": [
    "# Plotting the training accuracy and Validation accuracy\n",
    "plt.plot(history.history['accuracy'])\n",
    "plt.plot(history.history['val_accuracy'])\n",
    "plt.title('model accuracy')\n",
    "plt.ylabel('accuracy')\n",
    "plt.xlabel('epoch')\n",
    "plt.legend(['train', 'val'], loc='upper left')\n",
    "plt.show()"
   ]
  },
  {
   "cell_type": "code",
   "execution_count": 26,
   "metadata": {
    "_cell_guid": "e72aa20c-c65a-4ca9-a5a5-d7533a1c03f0",
    "_uuid": "f8775e30-50e5-4428-90d3-d8cb87ee22d3",
    "execution": {
     "iopub.execute_input": "2020-08-16T05:24:06.873206Z",
     "iopub.status.busy": "2020-08-16T05:24:06.871855Z",
     "iopub.status.idle": "2020-08-16T05:24:07.034043Z",
     "shell.execute_reply": "2020-08-16T05:24:07.034601Z"
    },
    "papermill": {
     "duration": 8.083488,
     "end_time": "2020-08-16T05:24:07.034749",
     "exception": false,
     "start_time": "2020-08-16T05:23:58.951261",
     "status": "completed"
    },
    "tags": []
   },
   "outputs": [
    {
     "data": {
      "image/png": "[encoded data removed]",
      "text/plain": [
       "<Figure size 432x288 with 1 Axes>"
      ]
     },
     "metadata": {
      "needs_background": "light"
     },
     "output_type": "display_data"
    }
   ],
   "source": [
    "# Plotting training loss and validation loss\n",
    "plt.plot(history.history['loss'])\n",
    "plt.plot(history.history['val_loss'])\n",
    "plt.title('model loss')\n",
    "plt.ylabel('loss')\n",
    "plt.xlabel('epoch')\n",
    "plt.legend(['train', 'val'], loc='upper left')\n",
    "plt.show()"
   ]
  }
 ],
 "metadata": {
  "kernelspec": {
   "display_name": "Python 3",
   "language": "python",
   "name": "python3"
  },
  "language_info": {
   "codemirror_mode": {
    "name": "ipython",
    "version": 3
   },
   "file_extension": ".py",
   "mimetype": "text/x-python",
   "name": "python",
   "nbconvert_exporter": "python",
   "pygments_lexer": "ipython3",
   "version": "3.7.6"
  },
  "papermill": {
   "duration": 3068.724635,
   "end_time": "2020-08-16T05:24:32.462813",
   "environment_variables": {},
   "exception": null,
   "input_path": "__notebook__.ipynb",
   "output_path": "__notebook__.ipynb",
   "parameters": {},
   "start_time": "2020-08-16T04:33:23.738178",
   "version": "2.1.0"
  }
 },
 "nbformat": 4,
 "nbformat_minor": 4
}
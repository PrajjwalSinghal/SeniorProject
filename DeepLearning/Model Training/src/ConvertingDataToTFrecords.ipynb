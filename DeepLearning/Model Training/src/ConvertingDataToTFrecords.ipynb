{
 "metadata": {
  "language_info": {
   "codemirror_mode": {
    "name": "ipython",
    "version": 3
   },
   "file_extension": ".py",
   "mimetype": "text/x-python",
   "name": "python",
   "nbconvert_exporter": "python",
   "pygments_lexer": "ipython3",
   "version": "3.7.2-final"
  },
  "orig_nbformat": 2,
  "kernelspec": {
   "name": "Python 3.7.2 64-bit ('localPythonEnvironment')",
   "display_name": "Python 3.7.2 64-bit ('localPythonEnvironment')",
   "metadata": {
    "interpreter": {
     "hash": "8eb27e1f347f20898a396545f5355db94f381d2b95cc4b681e8fea4ebfc0fe08"
    }
   }
  }
 },
 "nbformat": 4,
 "nbformat_minor": 2,
 "cells": [
  {
   "cell_type": "code",
   "execution_count": 4,
   "metadata": {},
   "outputs": [],
   "source": [
    "import os\n",
    "import tensorflow as tf\n",
    "from PIL import Image\n",
    "from glob import glob\n",
    "from string import ascii_uppercase"
   ]
  },
  {
   "cell_type": "code",
   "execution_count": null,
   "metadata": {},
   "outputs": [],
   "source": [
    "cwd = \"../data/Part2TrainingData/train/\"\n",
    "tfrecordPath = \"../data/\"\n",
    "bestNum = 1000\n",
    "num = 0\n",
    "recordFileNum = 0\n",
    "# Number of classes in the dataset\n",
    "keys = ascii_uppercase[14:25]\n",
    "value = [i for i in list(range(11))]\n",
    "classes = dict(zip(keys, values))\n",
    "\n",
    "# Name of the tfrecord filename\n",
    "recordFileName = (\"train.tfrecords-%3d\" % recordFileNum)\n",
    "writer = tf.io.TFRecordWriter(recordPath + recordFileName)"
   ]
  },
  {
   "cell_type": "code",
   "execution_count": 3,
   "metadata": {},
   "outputs": [
    {
     "output_type": "stream",
     "name": "stdout",
     "text": [
      "['../data', '../src']\n"
     ]
    }
   ],
   "source": [
    "for name, label in classes.items():\n",
    "    class_path = os.path.join(cwd, name)\n",
    "    for img_name in listdir(class_path):\n",
    "        num += 1\n",
    "        if num > bestNum:\n",
    "            writer = tf.io.TFRecordWriter(recordPath + recordsFileNum)\n",
    "        img_path = os.path.join(class_path, img_name)\n",
    "        img = Image.open(img_path, \"r\")\n",
    "        img_raw = img.tobytes()\n",
    "        example = tf.train.Example(features=tf.train.Features(feature={\n",
    "\"img_raw\": tf.train.Feature(bytes_list=tf.train.BytesList(value=[img_raw]), \"label\": tf.train.Feature(int64_list=tf.train.Int64List(value=[label]))}))\n",
    "\n",
    "    writer.write(example.SerializeToString())\n",
    "writer.close()"
   ]
  },
  {
   "cell_type": "code",
   "execution_count": null,
   "metadata": {},
   "outputs": [],
   "source": []
  }
 ]
}